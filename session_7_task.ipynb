{
  "nbformat": 4,
  "nbformat_minor": 0,
  "metadata": {
    "colab": {
      "provenance": []
    },
    "kernelspec": {
      "name": "python3",
      "display_name": "Python 3"
    },
    "language_info": {
      "name": "python"
    }
  },
  "cells": [
    {
      "cell_type": "markdown",
      "source": [
        "##`Q-1:` Rectangle Class\n",
        "1. Write a Rectangle class in Python language, allowing you to build a rectangle with length and width attributes.\n",
        "\n",
        "2. Create a Perimeter() method to calculate the perimeter of the rectangle and a Area() method to calculate the area of ​​the rectangle.\n",
        "\n",
        "3. Create a method display() that display the length, width, perimeter and area of an object created using an instantiation on rectangle class."
      ],
      "metadata": {
        "id": "FyUJ3PRAsPr4"
      }
    },
    {
      "cell_type": "markdown",
      "source": [
        "Eg.\n",
        "After making above classes and methods, on executing below code:-\n",
        "```\n",
        "my_rectangle = Rectangle(3 , 4)\n",
        "my_rectangle.display()\n",
        "```\n",
        "\n",
        "`Output:`\n",
        "```\n",
        "The length of rectangle is:  3\n",
        "The width of rectangle is:  4\n",
        "The perimeter of rectangle is:  14\n",
        "The area of rectangle is:  12\n",
        "```\n"
      ],
      "metadata": {
        "id": "GxUtOqJfssFK"
      }
    },
    {
      "cell_type": "code",
      "source": [
        "# write your code here\n",
        "class Rectangle:\n",
        "\n",
        "  def __init__(self,length,width):\n",
        "    self.length = length\n",
        "    self.width = width\n",
        "\n",
        "  def perimeter(self):\n",
        "    return (2*(self.length+self.width))\n",
        "\n",
        "  def area(self):\n",
        "    return (self.length*self.width)\n",
        "\n",
        "  def display(self):\n",
        "    print('The length of rectangle is', self.length)\n",
        "    print('The width of rectangle is', self.width)\n",
        "    print('The perimeter of rectangle is',self.perimeter())\n",
        "    print('The area of rectangle is', self.area())"
      ],
      "metadata": {
        "id": "92_QT-Uj6NBg"
      },
      "execution_count": null,
      "outputs": []
    },
    {
      "cell_type": "code",
      "source": [
        "my_rectangle = Rectangle(3,4)\n",
        "my_rectangle.display()"
      ],
      "metadata": {
        "colab": {
          "base_uri": "https://localhost:8080/"
        },
        "id": "Fn_o-1bobtMj",
        "outputId": "0605f9a1-ff69-4bff-b023-5af19622b594"
      },
      "execution_count": null,
      "outputs": [
        {
          "output_type": "stream",
          "name": "stdout",
          "text": [
            "The length of rectangle is 3\n",
            "The width of rectangle is 4\n",
            "The perimeter of rectangle is 14\n",
            "The area of rectangle is 12\n"
          ]
        }
      ]
    },
    {
      "cell_type": "markdown",
      "source": [
        "##`Q-2: Bank Class`\n",
        "\n",
        "1. Create a Python class called `BankAccount` which represents a bank account, having as attributes: `accountNumber` (numeric type), `name` (name of the account owner as string type), `balance`.\n",
        "2. Create a constructor with parameters: `accountNumber, name, balance`.\n",
        "3. Create a `Deposit()` method which manages the deposit actions.\n",
        "4. Create a `Withdrawal()` method  which manages withdrawals actions.\n",
        "5. Create an `bankFees()` method to apply the bank fees with a percentage of 5% of the balance account.\n",
        "6. Create a `display()` method to display account details.\n",
        "Give the complete code for the  BankAccount class."
      ],
      "metadata": {
        "id": "r_GxrS0Vrdom"
      }
    },
    {
      "cell_type": "markdown",
      "source": [
        "Eg.\n",
        "After making above classes and methods, on executing below code:-\n",
        "```\n",
        "newAccount = BankAccount(2178514584, \"Mandy\" , 2800)\n",
        "\n",
        "newAccount.Withdrawal(700)\n",
        "\n",
        "newAccount.Deposit(1000)\n",
        "\n",
        "newAccount.display()\n",
        "```\n",
        "\n",
        "`Output:`\n",
        "```\n",
        "Account Number :  2178514584\n",
        "Account Name :  Mandy\n",
        "Account Balance :  3100 ₹\n",
        "```"
      ],
      "metadata": {
        "id": "qvVkOUJgvTV_"
      }
    },
    {
      "cell_type": "code",
      "source": [
        "# write your code here\n",
        "class BankAccount:\n",
        "\n",
        "  def __init__(self,accountnum,name,balance):\n",
        "    self.accountnum = accountnum\n",
        "    self.name = name\n",
        "    self.balance = balance\n",
        "\n",
        "  def Withdrawal(self,amount):\n",
        "    if amount < self.balance:\n",
        "      self.balance = self.balance - amount\n",
        "    else:\n",
        "      return 'Balance not sufficient'\n",
        "\n",
        "  def BankFees(self):\n",
        "    self.balance = self.balance - (0.05 * self.balance)\n",
        "\n",
        "  def Deposit(self,amount):\n",
        "    self.balance = self.balance + amount\n",
        "    return self.balance\n",
        "\n",
        "  def display(self):\n",
        "    print('Account Number:',self.accountnum)\n",
        "    print('Account Name:', self.name)\n",
        "    print('Account Balance:',self.balance)"
      ],
      "metadata": {
        "id": "fUQOmQyA6YDR"
      },
      "execution_count": null,
      "outputs": []
    },
    {
      "cell_type": "code",
      "source": [
        "newAccount = BankAccount(2178514584,'Mandy',2800)\n",
        "\n",
        "newAccount.Withdrawal(700)\n",
        "\n",
        "newAccount.Deposit(1000)\n",
        "\n",
        "newAccount.display()"
      ],
      "metadata": {
        "colab": {
          "base_uri": "https://localhost:8080/"
        },
        "id": "uiErYQCJeezn",
        "outputId": "60655b9c-0671-4271-9934-4861791a28d4"
      },
      "execution_count": null,
      "outputs": [
        {
          "output_type": "stream",
          "name": "stdout",
          "text": [
            "Account Number: 2178514584\n",
            "Account Name: Mandy\n",
            "Account Balance: 3100\n"
          ]
        }
      ]
    },
    {
      "cell_type": "markdown",
      "source": [
        "##`Q-3:Computation class`\n",
        "\n",
        "1. Create a `Computation` class with a default constructor (without parameters) allowing to perform various calculations on integers numbers.\n",
        "2. Create a method called `Factorial()` which allows to calculate the factorial of an integer n. Integer n as parameter for this method\n",
        "\n",
        "3. Create a method called `naturalSum()` allowing to calculate the sum of the first n integers 1 + 2 + 3 + .. + n. Integer n as parameter for this method.\n",
        "\n",
        "4. Create a method called `testPrime()` in  the Calculation class to test the primality of a given integer n, n is Prime or Not? Integer n as parameter for this method.\n",
        "\n",
        "5. Create  a method called `testPrims()` allowing to test if two numbers are prime between them. Two integers are prime to one another if they have only `1` as their common divisor. Eg. 4 and 9 are prime to each other.\n",
        "\n",
        "5. Create a `tableMult()` method which creates and displays the multiplication table of a given integer. Then create an `allTablesMult()` method to display all the integer multiplication tables 1, 2, 3, ..., 9.\n",
        "\n",
        "6. Create a static `listDiv()` method that gets all the divisors of a given integer on new list called  Ldiv. Create another `listDivPrim()` method that gets all the prime divisors of a given integer."
      ],
      "metadata": {
        "id": "QovcQAZTrgGU"
      }
    },
    {
      "cell_type": "code",
      "source": [
        "# write your code here\n",
        "class Computation:\n",
        "\n",
        "  def __init__(self):\n",
        "    pass\n",
        "\n",
        "  def Factorial(self,num):\n",
        "    \"\"\"\n",
        "    Returns a factorial of a given number num.\n",
        "    \"\"\"\n",
        "\n",
        "    factorial = 1\n",
        "    if num < 0:\n",
        "      print(\"Sorry, factorial does not exist for negative numbers\")\n",
        "    elif num == 0:\n",
        "      print(\"The factorial of 0 is 1\")\n",
        "    else:\n",
        "      for i in range(1,num + 1):\n",
        "        factorial = factorial*i\n",
        "\n",
        "    return factorial\n",
        "\n",
        "  def naturalSum(self,num):\n",
        "    \"\"\"\n",
        "    Returns a natural sum of a given number num.\n",
        "    \"\"\"\n",
        "    nat_sum=0\n",
        "    for i in range(1,num+1):\n",
        "      nat_sum = nat_sum + i\n",
        "\n",
        "    return nat_sum\n",
        "\n",
        "  def testPrime(self,num):\n",
        "    \"\"\"\n",
        "    Helper function to check if a number is prime or not.\n",
        "    \"\"\"\n",
        "\n",
        "    flag =False\n",
        "    if num==1:\n",
        "      return False\n",
        "    for i in range(2,num):\n",
        "      if num%i==0:\n",
        "        flag = True\n",
        "        break\n",
        "    if flag:\n",
        "      return False\n",
        "    else:\n",
        "      return True\n",
        "\n",
        "  \n",
        "  def __gcd(self,a, b):\n",
        "    \"\"\"\n",
        "    Returns a GCD of a 2 number a and b.\n",
        "    \"\"\"\n",
        "  \n",
        "    # Everything divides 0 \n",
        "    if (a == 0 or b == 0): \n",
        "      return 0\n",
        "        \n",
        "    # base case\n",
        "    if (a == b): \n",
        "      return a\n",
        "        \n",
        "    # a is greater\n",
        "    if (a > b): \n",
        "        return self.__gcd(a - b, b)\n",
        "                \n",
        "    return self.__gcd(a, b - a)\n",
        "\n",
        "  def testPrims(self,a, b):\n",
        "    \"\"\"\n",
        "    Helper function to check if 2 number are co-prime or not.\n",
        "    \"\"\"\n",
        "      \n",
        "    if ( self.__gcd(a, b) == 1):\n",
        "        return \"Co-Prime\"\n",
        "    else:\n",
        "        return \"Not Co-Prime\"\n",
        "    \n",
        "  def tableMult(self,num):\n",
        "    \"\"\"\n",
        "    Returns a table of a given number num\n",
        "    \"\"\"\n",
        "    for i in range(1,11):\n",
        "      print('{}*{}={}'.format(num,i,num*i))\n",
        "\n",
        "  def alltableMult(self):\n",
        "    \"\"\"\n",
        "    Returns a table of a number 1 to 10\n",
        "    \"\"\"\n",
        "    for i in range(1,10):\n",
        "      for j in range(1,11):\n",
        "        print('{}*{}={}'.format(i,j,i*j))\n",
        "      print('---------------')\n",
        "\n",
        "  def listdiv(self,num):\n",
        "    \"\"\"\n",
        "    Returns a list of all divisors a given number num\n",
        "    \"\"\"\n",
        "    LDiv = []\n",
        "    i=1\n",
        "    while i<=num:\n",
        "      if (num%i == 0):\n",
        "        LDiv.append(i)\n",
        "      i = i+1\n",
        "    \n",
        "    return LDiv\n",
        "\n",
        "  def listDivPrim(self,n):\n",
        "    \"\"\"\n",
        "    Returns a list of all prime divisors a given number num\n",
        "    \"\"\"\n",
        "   \n",
        "    prime_divisors_list = []\n",
        "    i = 2\n",
        "    while i <= n:\n",
        "        if n % i == 0 and self.testPrime(i):\n",
        "            prime_divisors_list.append(i)\n",
        "            n = n // i\n",
        "        else:\n",
        "            i += 1\n",
        "    return prime_divisors_list"
      ],
      "metadata": {
        "id": "YEkPH70l6Z-o"
      },
      "execution_count": 18,
      "outputs": []
    },
    {
      "cell_type": "code",
      "source": [
        "Computation().listDivPrim(34)"
      ],
      "metadata": {
        "colab": {
          "base_uri": "https://localhost:8080/"
        },
        "id": "VO91ME2PrQoS",
        "outputId": "9b15461c-1cd7-456a-cbb6-7f0960b56189"
      },
      "execution_count": 23,
      "outputs": [
        {
          "output_type": "execute_result",
          "data": {
            "text/plain": [
              "[2, 17]"
            ]
          },
          "metadata": {},
          "execution_count": 23
        }
      ]
    },
    {
      "cell_type": "markdown",
      "source": [
        "##`Q-4`: Build flashcard using class in Python.\n",
        "\n",
        "Build a flashcard using class in python. A flashcard is a card having information on both sides, which can be used as an aid in memoization. Flashcards usually have a question on one side and an answer on the other.\n",
        "\n",
        "**Example 1:**\n",
        "\n",
        "Approach:\n",
        "\n",
        "- Create a class named FlashCard.\n",
        "- Initialize dictionary fruits using __init__() method. Here you have to define fruit name as key and it's color as value. E.g., {\"Banana\": \"yellow\", \"Strawberries\": \"pink\"}\n",
        "- Now randomly choose a pair from fruits by using _random_ module and store the key in variable _fruit_ and _value_ in variable color.\n",
        "- Now prompt the user to answer the color of the randomly chosen fruit.\n",
        "- If correct print correct else print wrong.\n",
        "\n",
        "Output:\n",
        "```bash\n",
        "welcome to fruit quiz\n",
        "What is the color of Strawberries\n",
        "pink\n",
        "Correct answer\n",
        "Enter 0, if you want to play again: 0\n",
        "What is the color of watermelon\n",
        "green\n",
        "Correct answer\n",
        "Enter 0, if you want to play again: 1\n",
        "```"
      ],
      "metadata": {
        "id": "0yn23_oEriXa"
      }
    },
    {
      "cell_type": "code",
      "source": [
        "# write your code here\n",
        "import numpy as np\n",
        "class FlashCard:\n",
        "\n",
        "  def __init__(self):\n",
        "    self.fruits_dict = {'grapes':'purple','strawberry':'pink','pineapple':'yellow','papaya':'orange','pear':'green','pomegranate':'red'}\n",
        "    self.quiz()\n",
        "\n",
        "  def quiz(self):\n",
        "    temp = np.random.randint(0,len(self.fruits_dict))\n",
        "    fruit = list(self.fruits_dict.keys())[temp]\n",
        "    color = self.fruits_dict[fruit]\n",
        "\n",
        "    print('What is the color of {}'.format(fruit))\n",
        "    guess = input('')\n",
        "\n",
        "    if guess == color:\n",
        "      print('Correct')\n",
        "      card = input('Enter 0, if you want to play again')\n",
        "      if card == '0':\n",
        "        self.quiz()\n",
        "      else:\n",
        "        exit()\n",
        "    else:\n",
        "      print('Incorrect')\n",
        "      card = input('Enter 0, if you want to play again')\n",
        "      if card == '0':\n",
        "        self.quiz()\n",
        "      else:\n",
        "        exit()"
      ],
      "metadata": {
        "id": "vCrUF6VU6l6w"
      },
      "execution_count": null,
      "outputs": []
    },
    {
      "cell_type": "code",
      "source": [
        "game = FlashCard()\n",
        "game"
      ],
      "metadata": {
        "colab": {
          "base_uri": "https://localhost:8080/"
        },
        "id": "sJ1dxl5TQf8_",
        "outputId": "3e8b9e22-d1ac-45ca-9b45-83168589b82a"
      },
      "execution_count": null,
      "outputs": [
        {
          "name": "stdout",
          "output_type": "stream",
          "text": [
            "What is the color of papaya\n",
            "green\n",
            "Incorrect\n",
            "Enter 0, if you want to play again0\n",
            "What is the color of pomegranate\n",
            "red\n",
            "Correct\n",
            "Enter 0, if you want to play again1\n"
          ]
        },
        {
          "output_type": "execute_result",
          "data": {
            "text/plain": [
              "<__main__.FlashCard at 0x7fe4f40397c0>"
            ]
          },
          "metadata": {},
          "execution_count": 3
        }
      ]
    },
    {
      "cell_type": "markdown",
      "source": [
        "## `Q-5:` Problem 5 based on OOP Python.\n",
        "\n",
        "TechWorld, a technology training center, wants to allocate courses for instructors. An instructor is identified by name, technology skills, experience and average feedback. An instructor is allocated a course, if he/she satisfies the below two conditions:\n",
        "- eligibility criteria:\n",
        "    - if experience is more than 3 years, average feedback should be 4.5 or more\n",
        "    - if experience is 3 years or less, average feedback should be 4 or more\n",
        "- he/she should posses the technology skill for the course\n",
        "\n",
        "Identify the class name and attributes to represent instructors. Write a Python program to implement the class chosen with its attributes and methods.\n",
        "\n",
        "**Note:**\n",
        "- Consider all instance variables to be private and methods to be public.\n",
        "- An instructor may have multiple technology skills, so consider instance variable, technology_skill to be a list.\n",
        "- *check_eligibility()*: Return true if eligibility criteria is satisfied by the instructor. Else, return false\n",
        "- *allocate_course(technology)*: Return true if the course which requires the given technology can be allocated to the instructor. Else, return false.\n",
        "\n",
        "Represent a few objects of the class, initialize instance variables using setter methods, invoke\n",
        "appropriate methods and test your program."
      ],
      "metadata": {
        "id": "GN2r0jbRewYr"
      }
    },
    {
      "cell_type": "code",
      "source": [
        "# write your code here\n",
        "class Instructor():\n",
        "\n",
        "  def __init__(self,name,skills,experience,feedback):\n",
        "    self.__name = name\n",
        "    self.__skills = skills\n",
        "    self.__experience = experience\n",
        "    self.__feedback = feedback\n",
        "\n",
        "  def check_eligibility(self):\n",
        "    if self.__experience > 3 and self.__feedback > 4.5:\n",
        "      return True\n",
        "    elif self.__experience <=3 and self.__feedback >= 4:\n",
        "      return True\n",
        "    else:\n",
        "      return False\n",
        "  \n",
        "  def allocate_course(self,technology):\n",
        "    if technology in self.__skills:\n",
        "      return self.check_eligibility()\n",
        "    else:\n",
        "      return False\n",
        "\n",
        "  def set_name(self,name):\n",
        "    self.__name = name\n",
        "\n",
        "  def set_skills(self,skills):\n",
        "    self.__skills = skills\n",
        "\n",
        "  def set_experience(self,experience):\n",
        "    self.__experience = experience\n",
        "\n",
        "  def set_feedback(self,feedback):\n",
        "    self.__feedback = feedback\n",
        "\n",
        "  def get_name(self):\n",
        "    return self.__name\n",
        "\n",
        "  def get_skills(self):\n",
        "    return self.__skills\n",
        "\n",
        "  def get_experience(self):\n",
        "    return self.__experience\n",
        "\n",
        "  def get_feedback(self):\n",
        "    return self.__feedback"
      ],
      "metadata": {
        "id": "pdMFuVFnlvKL"
      },
      "execution_count": 33,
      "outputs": []
    },
    {
      "cell_type": "code",
      "source": [
        "instructor1 = Instructor('John Doe', ['Python', 'Java'], 4, 4.8)\n",
        "instructor1.set_name('Jane Smith')\n",
        "instructor1.get_name()"
      ],
      "metadata": {
        "colab": {
          "base_uri": "https://localhost:8080/",
          "height": 36
        },
        "id": "nNByS5TaDgjp",
        "outputId": "0be2ec53-afe9-437b-94db-d5f8eb718455"
      },
      "execution_count": 34,
      "outputs": [
        {
          "output_type": "execute_result",
          "data": {
            "text/plain": [
              "'Jane Smith'"
            ],
            "application/vnd.google.colaboratory.intrinsic+json": {
              "type": "string"
            }
          },
          "metadata": {},
          "execution_count": 34
        }
      ]
    },
    {
      "cell_type": "code",
      "source": [],
      "metadata": {
        "id": "jRpHzA3FDmoW"
      },
      "execution_count": null,
      "outputs": []
    }
  ]
}